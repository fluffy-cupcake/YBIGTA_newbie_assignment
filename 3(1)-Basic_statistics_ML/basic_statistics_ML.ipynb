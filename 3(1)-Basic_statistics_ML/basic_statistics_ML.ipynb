{
 "cells": [
  {
   "cell_type": "markdown",
   "id": "e1fa1001",
   "metadata": {},
   "source": [
    "1. Iris data set"
   ]
  },
  {
   "cell_type": "code",
   "execution_count": 2,
   "id": "074196f2",
   "metadata": {},
   "outputs": [
    {
     "name": "stdout",
     "output_type": "stream",
     "text": [
      "<class 'pandas.core.frame.DataFrame'>\n",
      "RangeIndex: 150 entries, 0 to 149\n",
      "Data columns (total 5 columns):\n",
      " #   Column        Non-Null Count  Dtype  \n",
      "---  ------        --------------  -----  \n",
      " 0   sepal_length  150 non-null    float64\n",
      " 1   sepal_width   150 non-null    float64\n",
      " 2   petal_length  150 non-null    float64\n",
      " 3   petal_width   150 non-null    float64\n",
      " 4   species       150 non-null    object \n",
      "dtypes: float64(4), object(1)\n",
      "memory usage: 6.0+ KB\n",
      "None\n",
      "       sepal_length  sepal_width  petal_length  petal_width\n",
      "count    150.000000   150.000000    150.000000   150.000000\n",
      "mean       5.843333     3.057333      3.758000     1.199333\n",
      "std        0.828066     0.435866      1.765298     0.762238\n",
      "min        4.300000     2.000000      1.000000     0.100000\n",
      "25%        5.100000     2.800000      1.600000     0.300000\n",
      "50%        5.800000     3.000000      4.350000     1.300000\n",
      "75%        6.400000     3.300000      5.100000     1.800000\n",
      "max        7.900000     4.400000      6.900000     2.500000\n"
     ]
    }
   ],
   "source": [
    "import pandas as pd\n",
    "import seaborn as sns\n",
    "\n",
    "iris = sns.load_dataset('iris')\n",
    "print(iris.info())               # pandas의 DataFrame 구조 확인\n",
    "print(iris.describe())           # pandas의 통계량 요약"
   ]
  },
  {
   "cell_type": "code",
   "execution_count": 3,
   "id": "7034f968",
   "metadata": {},
   "outputs": [
    {
     "name": "stdout",
     "output_type": "stream",
     "text": [
      "            count   mean       std  min  25%   50%    75%  max\n",
      "species                                                       \n",
      "setosa       50.0  1.462  0.173664  1.0  1.4  1.50  1.575  1.9\n",
      "versicolor   50.0  4.260  0.469911  3.0  4.0  4.35  4.600  5.1\n",
      "virginica    50.0  5.552  0.551895  4.5  5.1  5.55  5.875  6.9\n",
      "\n",
      "[Species별 데이터 개수]\n",
      "species\n",
      "setosa        50\n",
      "versicolor    50\n",
      "virginica     50\n",
      "Name: count, dtype: int64\n"
     ]
    }
   ],
   "source": [
    "# 그룹별 기술통계량 산출 (Petal Length 기준)\n",
    "petal_stats = iris.groupby('species')['petal_length'].describe()\n",
    "print(petal_stats)\n",
    "\n",
    "# 그룹별 데이터 개수 확인\n",
    "species_counts = iris['species'].value_counts()\n",
    "print(\"\\n[Species별 데이터 개수]\")\n",
    "print(species_counts)"
   ]
  },
  {
   "cell_type": "code",
   "execution_count": 5,
   "id": "47627467",
   "metadata": {},
   "outputs": [
    {
     "data": {
      "image/png": "[encoded data removed]",
      "text/plain": [
       "<Figure size 800x600 with 1 Axes>"
      ]
     },
     "metadata": {},
     "output_type": "display_data"
    }
   ],
   "source": [
    "import matplotlib.pyplot as plt\n",
    "\n",
    "# Boxplot 그리기\n",
    "plt.figure(figsize=(8, 6))\n",
    "sns.boxplot(x='species', y='petal_length', data=iris)\n",
    "\n",
    "# 그래프 제목과 축 레이블 설정\n",
    "plt.title('Petal Length\\'s distribution by Species')\n",
    "plt.xlabel('Species')\n",
    "plt.ylabel('Petal Length')\n",
    "\n",
    "plt.show()"
   ]
  },
  {
   "cell_type": "markdown",
   "id": "f2348cf8",
   "metadata": {},
   "source": [
    "- Setosa: Petal Length가 가장 짧음, 분포 범위가 좁음, 이상치가 일부 존재\n",
    "- Versicolor: 분포 범위가 비교적 넓음, 이상치 일부 존재\n",
    "- Virginica: Peral Length가 가장 긺, 분포 범위가 넓음, 이상치 없음\n",
    "\n",
    "- 세 종의 IQR과 중앙값을 보았을 때 종 간 Petal Length에 명확한 차이가 있는 것으로 보임."
   ]
  },
  {
   "cell_type": "code",
   "execution_count": 11,
   "id": "79c71a31",
   "metadata": {},
   "outputs": [
    {
     "name": "stdout",
     "output_type": "stream",
     "text": [
      "Shapiro-Wilk 정규성 검정 결과 (Species별 Petal Length)\n",
      "setosa: W=0.9550, p-value=0.0548\n",
      "versicolor: W=0.9660, p-value=0.1585\n",
      "virginica: W=0.9622, p-value=0.1098\n"
     ]
    }
   ],
   "source": [
    "from scipy.stats import shapiro\n",
    "\n",
    "# Species 목록\n",
    "species_list = iris['species'].unique()\n",
    "\n",
    "# 정규성 검정\n",
    "print(\"Shapiro-Wilk 정규성 검정 결과 (Species별 Petal Length)\")\n",
    "for species in species_list:\n",
    "    data = iris[iris['species'] == species]['petal_length']\n",
    "    stat, p = shapiro(data)\n",
    "    print(f\"{species}: W={stat:.4f}, p-value={p:.4f}\")"
   ]
  },
  {
   "cell_type": "code",
   "execution_count": 12,
   "id": "ba4c17f7",
   "metadata": {},
   "outputs": [
    {
     "name": "stdout",
     "output_type": "stream",
     "text": [
      "Levene 등분산성 검정 결과\n",
      "Statistic=19.4803, p-value=3.13e-08\n"
     ]
    }
   ],
   "source": [
    "from scipy.stats import levene\n",
    "\n",
    "# 그룹별 데이터 추출\n",
    "setosa = iris[iris['species'] == 'setosa']['petal_length']\n",
    "versicolor = iris[iris['species'] == 'versicolor']['petal_length']\n",
    "virginica = iris[iris['species'] == 'virginica']['petal_length']\n",
    "\n",
    "# Levene 등분산성 검정\n",
    "stat, p = levene(setosa, versicolor, virginica)\n",
    "print(\"Levene 등분산성 검정 결과\")\n",
    "print(f\"Statistic={stat:.4f}, p-value={p:.2e}\")"
   ]
  },
  {
   "cell_type": "code",
   "execution_count": 15,
   "id": "aac72c88",
   "metadata": {},
   "outputs": [
    {
     "name": "stdout",
     "output_type": "stream",
     "text": [
      "ANOVA 결과\n",
      "            sum_sq     df            F        PR(>F)\n",
      "species   437.1028    2.0  1180.161182  2.856777e-91\n",
      "Residual   27.2226  147.0          NaN           NaN\n"
     ]
    }
   ],
   "source": [
    "import statsmodels.api as sm\n",
    "from statsmodels.formula.api import ols\n",
    "from statsmodels.stats.anova import anova_lm\n",
    "\n",
    "# 선형모형 적합\n",
    "model = ols('petal_length ~ species', data=iris).fit()\n",
    "\n",
    "# ANOVA 표 생성\n",
    "anova_table = anova_lm(model, typ=2)\n",
    "print(\"ANOVA 결과\")\n",
    "print(anova_table)"
   ]
  },
  {
   "cell_type": "code",
   "execution_count": 17,
   "id": "7c282f75",
   "metadata": {},
   "outputs": [
    {
     "name": "stdout",
     "output_type": "stream",
     "text": [
      "   Multiple Comparison of Means - Tukey HSD, FWER=0.05   \n",
      "=========================================================\n",
      "  group1     group2   meandiff p-adj lower  upper  reject\n",
      "---------------------------------------------------------\n",
      "    setosa versicolor    2.798   0.0 2.5942 3.0018   True\n",
      "    setosa  virginica     4.09   0.0 3.8862 4.2938   True\n",
      "versicolor  virginica    1.292   0.0 1.0882 1.4958   True\n",
      "---------------------------------------------------------\n"
     ]
    }
   ],
   "source": [
    "from statsmodels.stats.multicomp import pairwise_tukeyhsd\n",
    "\n",
    "# Tukey HSD 사후검정 수행\n",
    "tukey = pairwise_tukeyhsd(endog=iris['petal_length'],\n",
    "                          groups=iris['species'],\n",
    "                          alpha=0.05)\n",
    "\n",
    "print(tukey)"
   ]
  },
  {
   "cell_type": "markdown",
   "id": "4f9a2ab9",
   "metadata": {},
   "source": [
    "====신용 카드====="
   ]
  },
  {
   "cell_type": "code",
   "execution_count": 20,
   "id": "a084fdf6",
   "metadata": {},
   "outputs": [
    {
     "name": "stdout",
     "output_type": "stream",
     "text": [
      "   Time        V1        V2        V3        V4        V5        V6        V7  \\\n",
      "0   0.0 -1.359807 -0.072781  2.536347  1.378155 -0.338321  0.462388  0.239599   \n",
      "1   0.0  1.191857  0.266151  0.166480  0.448154  0.060018 -0.082361 -0.078803   \n",
      "2   1.0 -1.358354 -1.340163  1.773209  0.379780 -0.503198  1.800499  0.791461   \n",
      "3   1.0 -0.966272 -0.185226  1.792993 -0.863291 -0.010309  1.247203  0.237609   \n",
      "4   2.0 -1.158233  0.877737  1.548718  0.403034 -0.407193  0.095921  0.592941   \n",
      "\n",
      "         V8        V9  ...       V21       V22       V23       V24       V25  \\\n",
      "0  0.098698  0.363787  ... -0.018307  0.277838 -0.110474  0.066928  0.128539   \n",
      "1  0.085102 -0.255425  ... -0.225775 -0.638672  0.101288 -0.339846  0.167170   \n",
      "2  0.247676 -1.514654  ...  0.247998  0.771679  0.909412 -0.689281 -0.327642   \n",
      "3  0.377436 -1.387024  ... -0.108300  0.005274 -0.190321 -1.175575  0.647376   \n",
      "4 -0.270533  0.817739  ... -0.009431  0.798278 -0.137458  0.141267 -0.206010   \n",
      "\n",
      "        V26       V27       V28  Amount  Class  \n",
      "0 -0.189115  0.133558 -0.021053  149.62      0  \n",
      "1  0.125895 -0.008983  0.014724    2.69      0  \n",
      "2 -0.139097 -0.055353 -0.059752  378.66      0  \n",
      "3 -0.221929  0.062723  0.061458  123.50      0  \n",
      "4  0.502292  0.219422  0.215153   69.99      0  \n",
      "\n",
      "[5 rows x 31 columns]\n",
      "<class 'pandas.core.frame.DataFrame'>\n",
      "RangeIndex: 284807 entries, 0 to 284806\n",
      "Data columns (total 31 columns):\n",
      " #   Column  Non-Null Count   Dtype  \n",
      "---  ------  --------------   -----  \n",
      " 0   Time    284807 non-null  float64\n",
      " 1   V1      284807 non-null  float64\n",
      " 2   V2      284807 non-null  float64\n",
      " 3   V3      284807 non-null  float64\n",
      " 4   V4      284807 non-null  float64\n",
      " 5   V5      284807 non-null  float64\n",
      " 6   V6      284807 non-null  float64\n",
      " 7   V7      284807 non-null  float64\n",
      " 8   V8      284807 non-null  float64\n",
      " 9   V9      284807 non-null  float64\n",
      " 10  V10     284807 non-null  float64\n",
      " 11  V11     284807 non-null  float64\n",
      " 12  V12     284807 non-null  float64\n",
      " 13  V13     284807 non-null  float64\n",
      " 14  V14     284807 non-null  float64\n",
      " 15  V15     284807 non-null  float64\n",
      " 16  V16     284807 non-null  float64\n",
      " 17  V17     284807 non-null  float64\n",
      " 18  V18     284807 non-null  float64\n",
      " 19  V19     284807 non-null  float64\n",
      " 20  V20     284807 non-null  float64\n",
      " 21  V21     284807 non-null  float64\n",
      " 22  V22     284807 non-null  float64\n",
      " 23  V23     284807 non-null  float64\n",
      " 24  V24     284807 non-null  float64\n",
      " 25  V25     284807 non-null  float64\n",
      " 26  V26     284807 non-null  float64\n",
      " 27  V27     284807 non-null  float64\n",
      " 28  V28     284807 non-null  float64\n",
      " 29  Amount  284807 non-null  float64\n",
      " 30  Class   284807 non-null  int64  \n",
      "dtypes: float64(30), int64(1)\n",
      "memory usage: 67.4 MB\n",
      "None\n",
      "                Time            V1            V2            V3            V4  \\\n",
      "count  284807.000000  2.848070e+05  2.848070e+05  2.848070e+05  2.848070e+05   \n",
      "mean    94813.859575  1.168375e-15  3.416908e-16 -1.379537e-15  2.074095e-15   \n",
      "std     47488.145955  1.958696e+00  1.651309e+00  1.516255e+00  1.415869e+00   \n",
      "min         0.000000 -5.640751e+01 -7.271573e+01 -4.832559e+01 -5.683171e+00   \n",
      "25%     54201.500000 -9.203734e-01 -5.985499e-01 -8.903648e-01 -8.486401e-01   \n",
      "50%     84692.000000  1.810880e-02  6.548556e-02  1.798463e-01 -1.984653e-02   \n",
      "75%    139320.500000  1.315642e+00  8.037239e-01  1.027196e+00  7.433413e-01   \n",
      "max    172792.000000  2.454930e+00  2.205773e+01  9.382558e+00  1.687534e+01   \n",
      "\n",
      "                 V5            V6            V7            V8            V9  \\\n",
      "count  2.848070e+05  2.848070e+05  2.848070e+05  2.848070e+05  2.848070e+05   \n",
      "mean   9.604066e-16  1.487313e-15 -5.556467e-16  1.213481e-16 -2.406331e-15   \n",
      "std    1.380247e+00  1.332271e+00  1.237094e+00  1.194353e+00  1.098632e+00   \n",
      "min   -1.137433e+02 -2.616051e+01 -4.355724e+01 -7.321672e+01 -1.343407e+01   \n",
      "25%   -6.915971e-01 -7.682956e-01 -5.540759e-01 -2.086297e-01 -6.430976e-01   \n",
      "50%   -5.433583e-02 -2.741871e-01  4.010308e-02  2.235804e-02 -5.142873e-02   \n",
      "75%    6.119264e-01  3.985649e-01  5.704361e-01  3.273459e-01  5.971390e-01   \n",
      "max    3.480167e+01  7.330163e+01  1.205895e+02  2.000721e+01  1.559499e+01   \n",
      "\n",
      "       ...           V21           V22           V23           V24  \\\n",
      "count  ...  2.848070e+05  2.848070e+05  2.848070e+05  2.848070e+05   \n",
      "mean   ...  1.654067e-16 -3.568593e-16  2.578648e-16  4.473266e-15   \n",
      "std    ...  7.345240e-01  7.257016e-01  6.244603e-01  6.056471e-01   \n",
      "min    ... -3.483038e+01 -1.093314e+01 -4.480774e+01 -2.836627e+00   \n",
      "25%    ... -2.283949e-01 -5.423504e-01 -1.618463e-01 -3.545861e-01   \n",
      "50%    ... -2.945017e-02  6.781943e-03 -1.119293e-02  4.097606e-02   \n",
      "75%    ...  1.863772e-01  5.285536e-01  1.476421e-01  4.395266e-01   \n",
      "max    ...  2.720284e+01  1.050309e+01  2.252841e+01  4.584549e+00   \n",
      "\n",
      "                V25           V26           V27           V28         Amount  \\\n",
      "count  2.848070e+05  2.848070e+05  2.848070e+05  2.848070e+05  284807.000000   \n",
      "mean   5.340915e-16  1.683437e-15 -3.660091e-16 -1.227390e-16      88.349619   \n",
      "std    5.212781e-01  4.822270e-01  4.036325e-01  3.300833e-01     250.120109   \n",
      "min   -1.029540e+01 -2.604551e+00 -2.256568e+01 -1.543008e+01       0.000000   \n",
      "25%   -3.171451e-01 -3.269839e-01 -7.083953e-02 -5.295979e-02       5.600000   \n",
      "50%    1.659350e-02 -5.213911e-02  1.342146e-03  1.124383e-02      22.000000   \n",
      "75%    3.507156e-01  2.409522e-01  9.104512e-02  7.827995e-02      77.165000   \n",
      "max    7.519589e+00  3.517346e+00  3.161220e+01  3.384781e+01   25691.160000   \n",
      "\n",
      "               Class  \n",
      "count  284807.000000  \n",
      "mean        0.001727  \n",
      "std         0.041527  \n",
      "min         0.000000  \n",
      "25%         0.000000  \n",
      "50%         0.000000  \n",
      "75%         0.000000  \n",
      "max         1.000000  \n",
      "\n",
      "[8 rows x 31 columns]\n",
      "\n",
      "[Class 분포]\n",
      "Class\n",
      "0    284315\n",
      "1       492\n",
      "Name: count, dtype: int64\n",
      "\n",
      "[Class 비율 (%)]\n",
      "Class\n",
      "0    99.827251\n",
      "1     0.172749\n",
      "Name: proportion, dtype: float64\n"
     ]
    }
   ],
   "source": [
    "df = pd.read_csv(\"../../creditcard/creditcard.csv\")\n",
    "\n",
    "# 데이터의 상위 5개 확인\n",
    "print(df.head())\n",
    "\n",
    "# 전체 구조 및 결측치 확인\n",
    "print(df.info())\n",
    "\n",
    "# 기본 통계 요약\n",
    "print(df.describe())\n",
    "\n",
    "# Class 컬럼 비율 확인\n",
    "print(\"\\n[Class 분포]\")\n",
    "print(df['Class'].value_counts())\n",
    "print(\"\\n[Class 비율 (%)]\")\n",
    "print(df['Class'].value_counts(normalize=True) * 100)"
   ]
  },
  {
   "cell_type": "code",
   "execution_count": 21,
   "id": "304e4215",
   "metadata": {},
   "outputs": [
    {
     "name": "stdout",
     "output_type": "stream",
     "text": [
      "[샘플링 후 Class 분포]\n",
      "Class\n",
      "0    10000\n",
      "1      492\n",
      "Name: count, dtype: int64\n",
      "\n",
      "[Class 비율 (%)]\n",
      "Class\n",
      "0    95.310713\n",
      "1     4.689287\n",
      "Name: proportion, dtype: float64\n"
     ]
    }
   ],
   "source": [
    "# 사기 거래만 추출\n",
    "fraud = df[df['Class'] == 1]\n",
    "\n",
    "# 정상 거래 중 10,000건 샘플링\n",
    "normal_sampled = df[df['Class'] == 0].sample(n=10000, random_state=42)\n",
    "\n",
    "# 두 데이터프레임 합치기\n",
    "sampled_df = pd.concat([fraud, normal_sampled], axis=0)\n",
    "\n",
    "# Class 비율 다시 확인\n",
    "print(\"[샘플링 후 Class 분포]\")\n",
    "print(sampled_df['Class'].value_counts())\n",
    "print(\"\\n[Class 비율 (%)]\")\n",
    "print(sampled_df['Class'].value_counts(normalize=True) * 100)"
   ]
  },
  {
   "cell_type": "code",
   "execution_count": 22,
   "id": "afb485a2",
   "metadata": {},
   "outputs": [
    {
     "name": "stdout",
     "output_type": "stream",
     "text": [
      "        Time        V1        V2        V3        V4        V5        V6  \\\n",
      "541    406.0 -2.312227  1.951992 -1.609851  3.997906 -0.522188 -1.426545   \n",
      "623    472.0 -3.043541 -3.157307  1.088463  2.288644  1.359805 -1.064823   \n",
      "4920  4462.0 -2.303350  1.759247 -0.359745  2.330243 -0.821628 -0.075788   \n",
      "6108  6986.0 -4.397974  1.358367 -2.592844  2.679787 -1.128131 -1.706536   \n",
      "6329  7519.0  1.234235  3.019740 -4.304597  4.732795  3.624201 -1.357746   \n",
      "\n",
      "            V7        V8        V9  ...       V20       V21       V22  \\\n",
      "541  -2.537387  1.391657 -2.770089  ...  0.126911  0.517232 -0.035049   \n",
      "623   0.325574 -0.067794 -0.270953  ...  2.102339  0.661696  0.435477   \n",
      "4920  0.562320 -0.399147 -0.238253  ... -0.430022 -0.294166 -0.932391   \n",
      "6108 -3.496197 -0.248778 -0.247768  ... -0.171608  0.573574  0.176968   \n",
      "6329  1.713445 -0.496358 -1.282858  ...  0.009061 -0.379068 -0.704181   \n",
      "\n",
      "           V23       V24       V25       V26       V27       V28  \\\n",
      "541  -0.465211  0.320198  0.044519  0.177840  0.261145 -0.143276   \n",
      "623   1.375966 -0.293803  0.279798 -0.145362 -0.252773  0.035764   \n",
      "4920  0.172726 -0.087330 -0.156114 -0.542628  0.039566 -0.153029   \n",
      "6108 -0.436207 -0.053502  0.252405 -0.657488 -0.827136  0.849573   \n",
      "6329 -0.656805 -1.632653  1.488901  0.566797 -0.010016  0.146793   \n",
      "\n",
      "      Amount_Scaled  \n",
      "541       -0.394650  \n",
      "623        1.976514  \n",
      "4920       0.680800  \n",
      "6108      -0.130191  \n",
      "6329      -0.390168  \n",
      "\n",
      "[5 rows x 30 columns]\n",
      "Class\n",
      "0    10000\n",
      "1      492\n",
      "Name: count, dtype: int64\n"
     ]
    }
   ],
   "source": [
    "from sklearn.preprocessing import StandardScaler\n",
    "\n",
    "# Amount 변수 표준화\n",
    "scaler = StandardScaler()\n",
    "sampled_df['Amount_Scaled'] = scaler.fit_transform(sampled_df[['Amount']])\n",
    "\n",
    "# 원본 Amount 삭제\n",
    "sampled_df = sampled_df.drop(columns=['Amount'])\n",
    "\n",
    "# X, y로 나누기\n",
    "X = sampled_df.drop(columns=['Class'])  # 독립변수\n",
    "y = sampled_df['Class']                 # 타겟변수\n",
    "\n",
    "# 확인\n",
    "print(X.head())\n",
    "print(y.value_counts())"
   ]
  },
  {
   "cell_type": "code",
   "execution_count": 23,
   "id": "7d371b41",
   "metadata": {},
   "outputs": [
    {
     "name": "stdout",
     "output_type": "stream",
     "text": [
      "[Train Class 분포]\n",
      "Class\n",
      "0    7999\n",
      "1     394\n",
      "Name: count, dtype: int64\n",
      "\n",
      "[Test Class 분포]\n",
      "Class\n",
      "0    2001\n",
      "1      98\n",
      "Name: count, dtype: int64\n",
      "\n",
      "[Train Class 비율 (%)]\n",
      "Class\n",
      "0    95.305612\n",
      "1     4.694388\n",
      "Name: proportion, dtype: float64\n",
      "\n",
      "[Test Class 비율 (%)]\n",
      "Class\n",
      "0    95.33111\n",
      "1     4.66889\n",
      "Name: proportion, dtype: float64\n"
     ]
    }
   ],
   "source": [
    "from sklearn.model_selection import train_test_split\n",
    "\n",
    "# 학습셋:테스트셋 분할 (8:2), stratify로 비율 유지\n",
    "X_train, X_test, y_train, y_test = train_test_split(\n",
    "    X, y, test_size=0.2, stratify=y, random_state=42\n",
    ")\n",
    "\n",
    "# 비율 확인\n",
    "print(\"[Train Class 분포]\")\n",
    "print(y_train.value_counts())\n",
    "print(\"\\n[Test Class 분포]\")\n",
    "print(y_test.value_counts())\n",
    "\n",
    "print(\"\\n[Train Class 비율 (%)]\")\n",
    "print(y_train.value_counts(normalize=True) * 100)\n",
    "\n",
    "print(\"\\n[Test Class 비율 (%)]\")\n",
    "print(y_test.value_counts(normalize=True) * 100)"
   ]
  },
  {
   "cell_type": "code",
   "execution_count": 24,
   "id": "1fc84f73",
   "metadata": {},
   "outputs": [
    {
     "name": "stdout",
     "output_type": "stream",
     "text": [
      "[SMOTE 적용 후 Class 분포]\n",
      "Class\n",
      "0    7999\n",
      "1    7999\n",
      "Name: count, dtype: int64\n"
     ]
    }
   ],
   "source": [
    "from imblearn.over_sampling import SMOTE\n",
    "\n",
    "# SMOTE 인스턴스 생성\n",
    "smote = SMOTE(random_state=42)\n",
    "\n",
    "# 오버샘플링 적용\n",
    "X_train_res, y_train_res = smote.fit_resample(X_train, y_train)\n",
    "\n",
    "# 결과 확인\n",
    "print(\"[SMOTE 적용 후 Class 분포]\")\n",
    "print(y_train_res.value_counts())"
   ]
  },
  {
   "cell_type": "code",
   "execution_count": 25,
   "id": "bfaf8d6f",
   "metadata": {},
   "outputs": [
    {
     "name": "stdout",
     "output_type": "stream",
     "text": [
      "[Classification Report]\n",
      "              precision    recall  f1-score   support\n",
      "\n",
      "           0       0.99      1.00      1.00      2001\n",
      "           1       0.95      0.89      0.92        98\n",
      "\n",
      "    accuracy                           0.99      2099\n",
      "   macro avg       0.97      0.94      0.96      2099\n",
      "weighted avg       0.99      0.99      0.99      2099\n",
      "\n",
      "\n",
      "[PR-AUC] 0.9537\n"
     ]
    }
   ],
   "source": [
    "from sklearn.ensemble import RandomForestClassifier\n",
    "from sklearn.metrics import classification_report, average_precision_score\n",
    "\n",
    "# 모델 학습\n",
    "clf = RandomForestClassifier(random_state=42)\n",
    "clf.fit(X_train_res, y_train_res)\n",
    "\n",
    "# 예측\n",
    "y_pred = clf.predict(X_test)\n",
    "y_proba = clf.predict_proba(X_test)[:, 1]  # Class 1 확률\n",
    "\n",
    "# 평가\n",
    "print(\"[Classification Report]\")\n",
    "print(classification_report(y_test, y_pred))\n",
    "\n",
    "# PR-AUC\n",
    "pr_auc = average_precision_score(y_test, y_proba)\n",
    "print(f\"\\n[PR-AUC] {pr_auc:.4f}\")\n"
   ]
  }
 ],
 "metadata": {
  "kernelspec": {
   "display_name": "base",
   "language": "python",
   "name": "python3"
  },
  "language_info": {
   "codemirror_mode": {
    "name": "ipython",
    "version": 3
   },
   "file_extension": ".py",
   "mimetype": "text/x-python",
   "name": "python",
   "nbconvert_exporter": "python",
   "pygments_lexer": "ipython3",
   "version": "3.13.5"
  }
 },
 "nbformat": 4,
 "nbformat_minor": 5
}
